{
 "cells": [
  {
   "cell_type": "code",
   "execution_count": 1,
   "id": "2071c588",
   "metadata": {},
   "outputs": [
    {
     "name": "stdout",
     "output_type": "stream",
     "text": [
      "Pick an option:\n",
      "1) 6941.pyqum\t\n",
      "Your Choice is 1\n"
     ]
    }
   ],
   "source": [
    "from os import listdir\n",
    "samplename = \"19-3(v2) TOMO\"\n",
    "foldername = r\"C:/Users/tsung/Downloads/data/\"+samplename+\"/\"\n",
    "file_dir = listdir(foldername)\n",
    "user_input = ''\n",
    "input_message = \"Pick an option:\\n\"\n",
    "for index, item in enumerate(file_dir):\n",
    "    if index%5!=4:\n",
    "        input_message += f'{index+1}) {item}\\t'\n",
    "    else:\n",
    "        input_message += f'{index+1}) {item}\\n'\n",
    "user_input = input(input_message+'\\nYour Choice is ')\n",
    "pyqum_path = foldername+file_dir[int(user_input) - 1]"
   ]
  },
  {
   "cell_type": "code",
   "execution_count": 2,
   "id": "d286a58a",
   "metadata": {},
   "outputs": [
    {
     "name": "stdout",
     "output_type": "stream",
     "text": [
      "C:/Users/tsung/Downloads/data/19-3(v2) TOMO/6941.pyqum\n",
      "Comment : \n",
      "C1: BLOCH Vect One Shot (Ground and Excited)\n",
      "Poff Boff NDRAG\n",
      "Update: T6=10.305mK, REF#6940,6939,6917,6938,6936,6937,6935\n",
      "\n",
      "\tData Checked!\n",
      "\n",
      "Start load data....\n",
      "R-JSON :\n",
      "\t ROSTART  :  41900\n",
      "\t ROdelay  :  280\n",
      "\t ROL  :  0.03\n",
      "\t ROW  :  8000\n",
      "\t ROF  :  6.3486\n",
      "\t XYL  :  0 0.05 0.1\n",
      "\t XYW  :  33\n",
      "\t XYF  :  4.56125\n",
      "\t TOMO  :  0 0.05 -0.05\n",
      "\t TOMOR  :  0 90\n",
      "\t ROSTART,ROdelay,XYW>ROSTART-ROdelay-XYW-XYW  :  0\n",
      "\t ZW  :  50000\n",
      "\t Z1  :  -0.088\n",
      "\t Z2  :  0\n",
      "RECORD-SUM :  4000\n",
      "RECORD_TIME_NS :  3000\n",
      "Repeat : \n",
      "\t []\n",
      "Repeat_command : \n",
      "\t []\n",
      "\n",
      "\n",
      "Add Amp\n",
      "Add UPhase\n"
     ]
    }
   ],
   "source": [
    "from Load_PYQUM import Load_pyqum\n",
    "'''pyqum_path 可以是 jobid 或 the url of.pyqum file'''\n",
    "pyqum = Load_pyqum(pyqum_path)\n",
    "# add the column of Amplitude\n",
    "pyqum.add_amp()\n",
    "# add the column of UPhase\n",
    "pyqum.add_phase()\n",
    "# loaded dataframe\n",
    "dataframe = pyqum.dataframe\n",
    "# loaded jobid\n",
    "jobid = pyqum.jobid"
   ]
  },
  {
   "cell_type": "code",
   "execution_count": null,
   "id": "972f8da5",
   "metadata": {},
   "outputs": [],
   "source": []
  }
 ],
 "metadata": {
  "kernelspec": {
   "display_name": "Python 3 (ipykernel)",
   "language": "python",
   "name": "python3"
  },
  "language_info": {
   "codemirror_mode": {
    "name": "ipython",
    "version": 3
   },
   "file_extension": ".py",
   "mimetype": "text/x-python",
   "name": "python",
   "nbconvert_exporter": "python",
   "pygments_lexer": "ipython3",
   "version": "3.9.13"
  }
 },
 "nbformat": 4,
 "nbformat_minor": 5
}
